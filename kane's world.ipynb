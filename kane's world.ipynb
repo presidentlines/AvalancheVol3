{
 "cells": [
  {
   "cell_type": "code",
   "execution_count": 90,
   "id": "20d89034",
   "metadata": {},
   "outputs": [],
   "source": [
    "import pandas as pd\n",
    "import numpy as np\n",
    "from matplotlib import pyplot as plt\n",
    "%matplotlib inline"
   ]
  },
  {
   "cell_type": "code",
   "execution_count": 82,
   "id": "f2e9af70",
   "metadata": {},
   "outputs": [],
   "source": [
    "def test():\n",
    "    avalanche = pd.read_csv('data/avalanches-11-13-2021.csv')\n",
    "    df = avalanche.copy()\n",
    "    df = df[df['Date'].notna()]\n",
    "    df['Year'] = df['Date']\n",
    "    for i in range(len(df)):\n",
    "        df['Year'][i] = df['Date'][i][-4:]\n",
    "#     print(df['Date'][0][-4:])\n",
    "    return df['Year'].values"
   ]
  },
  {
   "cell_type": "code",
   "execution_count": 143,
   "id": "35b5ae6b",
   "metadata": {},
   "outputs": [
    {
     "data": {
      "text/plain": [
       "[1900,\n",
       " 1905,\n",
       " 1910,\n",
       " 1915,\n",
       " 1920,\n",
       " 1925,\n",
       " 1930,\n",
       " 1935,\n",
       " 1940,\n",
       " 1945,\n",
       " 1950,\n",
       " 1955,\n",
       " 1960,\n",
       " 1965,\n",
       " 1970,\n",
       " 1975,\n",
       " 1980,\n",
       " 1985,\n",
       " 1990,\n",
       " 1995,\n",
       " 2000,\n",
       " 2005,\n",
       " 2010,\n",
       " 2015,\n",
       " 2020,\n",
       " 2025]"
      ]
     },
     "execution_count": 143,
     "metadata": {},
     "output_type": "execute_result"
    }
   ],
   "source": [
    "binlist = np.arange(1900,2026,5)\n",
    "list(binlist)"
   ]
  },
  {
   "cell_type": "code",
   "execution_count": 145,
   "id": "53a15165",
   "metadata": {},
   "outputs": [
    {
     "name": "stderr",
     "output_type": "stream",
     "text": [
      "<ipython-input-82-8996bfe426ae>:7: SettingWithCopyWarning: \n",
      "A value is trying to be set on a copy of a slice from a DataFrame\n",
      "\n",
      "See the caveats in the documentation: https://pandas.pydata.org/pandas-docs/stable/user_guide/indexing.html#returning-a-view-versus-a-copy\n",
      "  df['Year'][i] = df['Date'][i][-4:]\n"
     ]
    },
    {
     "name": "stdout",
     "output_type": "stream",
     "text": [
      "[1900 1905 1910 1915 1920 1925 1930 1935 1940 1945 1950 1955 1960 1965\n",
      " 1970 1975 1980 1985 1990 1995 2000 2005 2010 2015 2020 2025]\n"
     ]
    },
    {
     "data": {
      "image/png": "[encoded data removed]",
      "text/plain": [
       "<Figure size 1080x720 with 1 Axes>"
      ]
     },
     "metadata": {
      "needs_background": "light"
     },
     "output_type": "display_data"
    }
   ],
   "source": [
    "years = test()\n",
    "for i in range(len(years)):\n",
    "    years[i] = float(years[i])\n",
    "fig = plt.figure(figsize=(15,10))\n",
    "n, bins, patches = plt.hist(years,bins=binlist,rwidth=0.9)\n",
    "plt.ylim((0,2600))\n",
    "# plt.xlim((1914,2024))\n",
    "plt.xticks(binlist)\n",
    "print(bins)\n"
   ]
  },
  {
   "cell_type": "code",
   "execution_count": 141,
   "id": "7c58d2b0",
   "metadata": {},
   "outputs": [
    {
     "data": {
      "text/plain": [
       "([<matplotlib.axis.XTick at 0x21c91984820>,\n",
       "  <matplotlib.axis.XTick at 0x21c91984880>,\n",
       "  <matplotlib.axis.XTick at 0x21c9137c760>,\n",
       "  <matplotlib.axis.XTick at 0x21c91385520>,\n",
       "  <matplotlib.axis.XTick at 0x21c91385fd0>,\n",
       "  <matplotlib.axis.XTick at 0x21c91392df0>,\n",
       "  <matplotlib.axis.XTick at 0x21c91392190>,\n",
       "  <matplotlib.axis.XTick at 0x21c912ed2b0>,\n",
       "  <matplotlib.axis.XTick at 0x21c912edf70>,\n",
       "  <matplotlib.axis.XTick at 0x21c912ed520>],\n",
       " [Text(0, 0, ''),\n",
       "  Text(0, 0, ''),\n",
       "  Text(0, 0, ''),\n",
       "  Text(0, 0, ''),\n",
       "  Text(0, 0, ''),\n",
       "  Text(0, 0, ''),\n",
       "  Text(0, 0, ''),\n",
       "  Text(0, 0, ''),\n",
       "  Text(0, 0, ''),\n",
       "  Text(0, 0, '')])"
      ]
     },
     "execution_count": 141,
     "metadata": {},
     "output_type": "execute_result"
    },
    {
     "data": {
      "image/png": "[encoded data removed]",
      "text/plain": [
       "<Figure size 432x288 with 1 Axes>"
      ]
     },
     "metadata": {
      "needs_background": "light"
     },
     "output_type": "display_data"
    }
   ],
   "source": [
    "mylist = np.array([1,1,1,1,2,3,4,3,5,5,6,4,3,7,9,2,5,6,7,8,9,5,3,2,3,4,5,3,4,4,5])\n",
    "# plt.hist(mylist,bins=[0,1.1,2.1,3.1,4.1,5.1,6.1,7.1,8.1,9.1])\n",
    "plt.hist(mylist,bins=(0.5,1.5,2.5,3.5,4.5,5.5,6.5,7.5,8.5,9.5),rwidth=0.9)\n",
    "plt.xticks((0,1,2,3,4,5,6,7,8,9))"
   ]
  },
  {
   "cell_type": "code",
   "execution_count": null,
   "id": "c27da407",
   "metadata": {},
   "outputs": [],
   "source": []
  }
 ],
 "metadata": {
  "kernelspec": {
   "display_name": "Python 3",
   "language": "python",
   "name": "python3"
  },
  "language_info": {
   "codemirror_mode": {
    "name": "ipython",
    "version": 3
   },
   "file_extension": ".py",
   "mimetype": "text/x-python",
   "name": "python",
   "nbconvert_exporter": "python",
   "pygments_lexer": "ipython3",
   "version": "3.9.4"
  }
 },
 "nbformat": 4,
 "nbformat_minor": 5
}
