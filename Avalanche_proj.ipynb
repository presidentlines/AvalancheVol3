{
 "cells": [
  {
   "cell_type": "code",
   "execution_count": 1,
   "id": "0f4dc1bd",
   "metadata": {},
   "outputs": [],
   "source": [
    "import pandas as pd\n",
    "import numpy as np"
   ]
  },
  {
   "cell_type": "code",
   "execution_count": 26,
   "id": "7c4fd4b0",
   "metadata": {},
   "outputs": [],
   "source": [
    "def load_data():\n",
    "    avalanche_df = pd.read_csv(\"./data/avalanches-11-13-2021.csv\")\n",
    "    weather_df = pd.read_csv(\"./data/weather.csv\")\n",
    "    \n",
    "    print(avalanche_df.columns)\n",
    "    print(weather_df.columns)\n",
    "    \n",
    "    print(\"Number of null values for date in \", avalanche_df[\"Date\"].isna().sum())"
   ]
  },
  {
   "cell_type": "code",
   "execution_count": 27,
   "id": "6d941aae",
   "metadata": {},
   "outputs": [
    {
     "name": "stdout",
     "output_type": "stream",
     "text": [
      "Index(['Date', 'Region', 'Place', 'Trigger', 'Trigger: additional info',\n",
      "       'Weak Layer', 'Depth', 'Width', 'Vertical', 'Aspect', 'Elevation',\n",
      "       'Coordinates', 'Caught', 'Carried', 'Buried - Partly', 'Buried - Fully',\n",
      "       'Injured', 'Killed', 'Accident and Rescue Summary', 'Terrain Summary',\n",
      "       'Weather Conditions and History', 'Comments 1', 'Comments 2',\n",
      "       'Comments 3', 'Comments 4'],\n",
      "      dtype='object')\n",
      "Index(['STATION', 'NAME', 'LATITUDE', 'LONGITUDE', 'ELEVATION', 'DATE', 'DAPR',\n",
      "       'EVAP', 'MDPR', 'MNPN', 'MXPN', 'PRCP', 'SNOW', 'SNWD', 'TAVG', 'TMAX',\n",
      "       'TMIN', 'TOBS', 'WDMV', 'WESD', 'WT01', 'WT03'],\n",
      "      dtype='object')\n",
      "Number of null values for date in  24\n"
     ]
    }
   ],
   "source": [
    "load_data()"
   ]
  },
  {
   "cell_type": "code",
   "execution_count": 6,
   "id": "5af9df45",
   "metadata": {},
   "outputs": [],
   "source": [
    "def kanes_code():\n",
    "    print(\"Kane\")"
   ]
  },
  {
   "cell_type": "code",
   "execution_count": 4,
   "id": "edd5a6ab",
   "metadata": {},
   "outputs": [
    {
     "ename": "SyntaxError",
     "evalue": "unexpected EOF while parsing (<ipython-input-4-826d1ef7af66>, line 2)",
     "output_type": "error",
     "traceback": [
      "\u001b[0;36m  File \u001b[0;32m\"<ipython-input-4-826d1ef7af66>\"\u001b[0;36m, line \u001b[0;32m2\u001b[0m\n\u001b[0;31m    \u001b[0m\n\u001b[0m    ^\u001b[0m\n\u001b[0;31mSyntaxError\u001b[0m\u001b[0;31m:\u001b[0m unexpected EOF while parsing\n"
     ]
    }
   ],
   "source": [
    "def lees_code():\n",
    "    "
   ]
  },
  {
   "cell_type": "code",
   "execution_count": 5,
   "id": "e07c66de",
   "metadata": {},
   "outputs": [
    {
     "ename": "SyntaxError",
     "evalue": "unexpected EOF while parsing (<ipython-input-5-433e3cbd72ed>, line 2)",
     "output_type": "error",
     "traceback": [
      "\u001b[0;36m  File \u001b[0;32m\"<ipython-input-5-433e3cbd72ed>\"\u001b[0;36m, line \u001b[0;32m2\u001b[0m\n\u001b[0;31m    \u001b[0m\n\u001b[0m    ^\u001b[0m\n\u001b[0;31mSyntaxError\u001b[0m\u001b[0;31m:\u001b[0m unexpected EOF while parsing\n"
     ]
    }
   ],
   "source": [
    "def everetts_code():\n",
    "    "
   ]
  },
  {
   "cell_type": "code",
   "execution_count": 7,
   "id": "e7a5fe27",
   "metadata": {},
   "outputs": [
    {
     "ename": "SyntaxError",
     "evalue": "unexpected EOF while parsing (<ipython-input-7-87288e8de9cc>, line 1)",
     "output_type": "error",
     "traceback": [
      "\u001b[0;36m  File \u001b[0;32m\"<ipython-input-7-87288e8de9cc>\"\u001b[0;36m, line \u001b[0;32m1\u001b[0m\n\u001b[0;31m    def rockfords_code():\u001b[0m\n\u001b[0m                         ^\u001b[0m\n\u001b[0;31mSyntaxError\u001b[0m\u001b[0;31m:\u001b[0m unexpected EOF while parsing\n"
     ]
    }
   ],
   "source": [
    "def rockfords_code():"
   ]
  },
  {
   "cell_type": "code",
   "execution_count": null,
   "id": "a1d292c7",
   "metadata": {},
   "outputs": [],
   "source": [
    "def nathans_codew"
   ]
  }
 ],
 "metadata": {
  "kernelspec": {
   "display_name": "Python 3",
   "language": "python",
   "name": "python3"
  },
  "language_info": {
   "codemirror_mode": {
    "name": "ipython",
    "version": 3
   },
   "file_extension": ".py",
   "mimetype": "text/x-python",
   "name": "python",
   "nbconvert_exporter": "python",
   "pygments_lexer": "ipython3",
   "version": "3.8.5"
  }
 },
 "nbformat": 4,
 "nbformat_minor": 5
}
