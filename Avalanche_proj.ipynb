{
 "cells": [
  {
   "cell_type": "markdown",
   "id": "7ce049a7",
   "metadata": {},
   "source": [
    "# ***AVALANCHE***\n",
    "## ***Volume 3 Project***\n",
    "### ***Lee, Everett, Rockford, Kane, Nathan***"
   ]
  },
  {
   "cell_type": "markdown",
   "id": "302465b7",
   "metadata": {},
   "source": [
    "## **LOCATIONS**\n",
    "1. Ben Lomond Peak\n",
    "2. Monte Cristo\n",
    "3. Ben Lomond Trail\n",
    "4. Snowbird\n",
    "5. Bues Canyon\n",
    "6. Ray S. Valley\n",
    "7. Alta"
   ]
  },
  {
   "cell_type": "markdown",
   "id": "ddfd3d2f",
   "metadata": {},
   "source": [
    "## **FEATURE DESCRIPTIONS**\n",
    "\n",
    "### **Core Values**\n",
    "PRCP = Precipitation (mm or inches as per user preference, inches to hundredths on Daily Form pdf file)<br>\n",
    "SNOW = Snowfall (mm or inches as per user preference, inches to tenths on Daily Form pdf file)<br>\n",
    "SNWD = Snow depth (mm or inches as per user preference, inches on Daily Form pdf file)<br>\n",
    "TMAX = Maximum temperature (Fahrenheit or Celsius as per user preference, Fahrenheit to tenths on\n",
    "Daily Form pdf file<br>\n",
    "TMIN = Minimum temperature (Fahrenheit or Celsius as per user preference, Fahrenheit to tenths on\n",
    "Daily Form pdf file<br>\n",
    "\n",
    "### **Other Values**\n",
    "ACMC = Average cloudiness midnight to midnight from 30-second ceilometer data (percent)<br>\n",
    "ACMH = Average cloudiness midnight to midnight from manual observations (percent)<br>\n",
    "ACSC = Average cloudiness sunrise to sunset from 30-second ceilometer data (percent)<br>\n",
    "ACSH = Average cloudiness sunrise to sunset from manual observations (percent)<br>\n",
    "AWND = Average daily wind speed (meters per second or miles per hour as per user preference)<br>\n",
    "DAEV = Number of days included in the multiday evaporation total (MDEV)<br>\n",
    "DAPR = Number of days included in the multiday precipitation total (MDPR)<br>\n",
    "DASF = Number of days included in the multiday snowfall total (MDSF)<br>\n",
    "DATN = Number of days included in the multiday minimum temperature (MDTN)<br>\n",
    "DATX = Number of days included in the multiday maximum temperature (MDTX)<br>\n",
    "DAWM = Number of days included in the multiday wind movement (MDWM)<br>\n",
    "DWPR = Number of days with non-zero precipitation included in multiday precipitation total (MDPR)<br>\n",
    "EVAP = Evaporation of water from evaporation pan (mm or inches as per user preference, or hundredths\n",
    "of inches on Daily Form pdf file)<br>\n",
    "FMTM = Time of fastest mile or fastest 1-minute wind (hours and minutes, i.e., HHMM)<br>\n",
    "FRGB = Base of frozen ground layer (cm or inches as per user preference)<br>\n",
    "FRGT = Top of frozen ground layer (cm or inches as per user preference)<br>\n",
    "FRTH = Thickness of frozen ground layer (cm or inches as per user preference)<br>\n",
    "GAHT = Difference between river and gauge height (cm or inches as per user preference)<br>\n",
    "MDEV = Multiday evaporation total (mm or inches as per user preference; use with DAEV)<br>\n",
    "MDPR = Multiday precipitation total (mm or inches as per user preference; use with DAPR and DWPR, if\n",
    "available)<br>\n",
    "MDSF = Multiday snowfall total (mm or inches as per user preference)<br>\n",
    "MDTN = Multiday minimum temperature (Fahrenheit or Celsius as per user preference ; use with DATN)<br>\n",
    "MDTX = Multiday maximum temperature (Fahrenheit or Celsius as per user preference ; use with DATX)<br>\n",
    "MDWM = Multiday wind movement (miles or km as per user preference)<br>\n",
    "MNPN = Daily minimum temperature of water in an evaporation pan (Fahrenheit or Celsius as per user\n",
    "preference)<br>\n",
    "MXPN = Daily maximum temperature of water in an evaporation pan (Fahrenheit or Celsius as per user\n",
    "preference)<br>\n",
    "PGTM = Peak gust time (hours and minutes, i.e., HHMM)<br>\n",
    "PSUN = Daily percent of possible sunshine (percent)<br>\n",
    "\n"
   ]
  },
  {
   "cell_type": "code",
   "execution_count": 1,
   "id": "661a2aec",
   "metadata": {},
   "outputs": [],
   "source": [
    "import pandas as pd\n",
    "import numpy as np"
   ]
  },
  {
   "cell_type": "code",
   "execution_count": 26,
   "id": "7c4fd4b0",
   "metadata": {},
   "outputs": [],
   "source": [
    "def load_data():\n",
    "    avalanche_df = pd.read_csv(\"./data/avalanches-11-13-2021.csv\")\n",
    "    weather_df = pd.read_csv(\"./data/weather.csv\")\n",
    "    \n",
    "    keyweather_df = weather_df[['PRCP','SNOW','SNWD','TMAX','TMIN']]\n",
    "    print(avalanche_df.columns)\n",
    "    print(weather_df.columns)\n",
    "    \n",
    "    print(\"Number of null values for date in \", avalanche_df[\"Date\"].isna().sum())"
   ]
  },
  {
   "cell_type": "code",
   "execution_count": 27,
   "id": "6d941aae",
   "metadata": {},
   "outputs": [
    {
     "name": "stdout",
     "output_type": "stream",
     "text": [
      "Index(['Date', 'Region', 'Place', 'Trigger', 'Trigger: additional info',\n",
      "       'Weak Layer', 'Depth', 'Width', 'Vertical', 'Aspect', 'Elevation',\n",
      "       'Coordinates', 'Caught', 'Carried', 'Buried - Partly', 'Buried - Fully',\n",
      "       'Injured', 'Killed', 'Accident and Rescue Summary', 'Terrain Summary',\n",
      "       'Weather Conditions and History', 'Comments 1', 'Comments 2',\n",
      "       'Comments 3', 'Comments 4'],\n",
      "      dtype='object')\n",
      "Index(['STATION', 'NAME', 'LATITUDE', 'LONGITUDE', 'ELEVATION', 'DATE', 'DAPR',\n",
      "       'EVAP', 'MDPR', 'MNPN', 'MXPN', 'PRCP', 'SNOW', 'SNWD', 'TAVG', 'TMAX',\n",
      "       'TMIN', 'TOBS', 'WDMV', 'WESD', 'WT01', 'WT03'],\n",
      "      dtype='object')\n",
      "Number of null values for date in  24\n"
     ]
    }
   ],
   "source": [
    "load_data()"
   ]
  },
  {
   "cell_type": "code",
   "execution_count": 6,
   "id": "5af9df45",
   "metadata": {},
   "outputs": [],
   "source": [
    "def kanes_code():\n",
    "    print(\"Kane\")"
   ]
  },
  {
   "cell_type": "code",
   "execution_count": 4,
   "id": "edd5a6ab",
   "metadata": {},
   "outputs": [
    {
     "ename": "SyntaxError",
     "evalue": "unexpected EOF while parsing (<ipython-input-4-826d1ef7af66>, line 2)",
     "output_type": "error",
     "traceback": [
      "\u001b[0;36m  File \u001b[0;32m\"<ipython-input-4-826d1ef7af66>\"\u001b[0;36m, line \u001b[0;32m2\u001b[0m\n\u001b[0;31m    \u001b[0m\n\u001b[0m    ^\u001b[0m\n\u001b[0;31mSyntaxError\u001b[0m\u001b[0;31m:\u001b[0m unexpected EOF while parsing\n"
     ]
    }
   ],
   "source": [
    "def lees_code():\n",
    "    "
   ]
  },
  {
   "cell_type": "code",
   "execution_count": 5,
   "id": "e07c66de",
   "metadata": {},
   "outputs": [
    {
     "ename": "SyntaxError",
     "evalue": "unexpected EOF while parsing (<ipython-input-5-433e3cbd72ed>, line 2)",
     "output_type": "error",
     "traceback": [
      "\u001b[0;36m  File \u001b[0;32m\"<ipython-input-5-433e3cbd72ed>\"\u001b[0;36m, line \u001b[0;32m2\u001b[0m\n\u001b[0;31m    \u001b[0m\n\u001b[0m    ^\u001b[0m\n\u001b[0;31mSyntaxError\u001b[0m\u001b[0;31m:\u001b[0m unexpected EOF while parsing\n"
     ]
    }
   ],
   "source": [
    "def everetts_code():\n",
    "    "
   ]
  },
  {
   "cell_type": "code",
   "execution_count": 7,
   "id": "e7a5fe27",
   "metadata": {},
   "outputs": [
    {
     "ename": "SyntaxError",
     "evalue": "unexpected EOF while parsing (<ipython-input-7-87288e8de9cc>, line 1)",
     "output_type": "error",
     "traceback": [
      "\u001b[0;36m  File \u001b[0;32m\"<ipython-input-7-87288e8de9cc>\"\u001b[0;36m, line \u001b[0;32m1\u001b[0m\n\u001b[0;31m    def rockfords_code():\u001b[0m\n\u001b[0m                         ^\u001b[0m\n\u001b[0;31mSyntaxError\u001b[0m\u001b[0;31m:\u001b[0m unexpected EOF while parsing\n"
     ]
    }
   ],
   "source": [
    "def rockfords_code():"
   ]
  },
  {
   "cell_type": "code",
   "execution_count": null,
   "id": "a1d292c7",
   "metadata": {},
   "outputs": [],
   "source": [
    "def nathans_codew"
   ]
  }
 ],
 "metadata": {
  "kernelspec": {
   "display_name": "Python 3",
   "language": "python",
   "name": "python3"
  },
  "language_info": {
   "codemirror_mode": {
    "name": "ipython",
    "version": 3
   },
   "file_extension": ".py",
   "mimetype": "text/x-python",
   "name": "python",
   "nbconvert_exporter": "python",
   "pygments_lexer": "ipython3",
   "version": "3.9.4"
  }
 },
 "nbformat": 4,
 "nbformat_minor": 5
}
