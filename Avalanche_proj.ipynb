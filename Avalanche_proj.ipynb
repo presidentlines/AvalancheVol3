{
 "cells": [
  {
   "cell_type": "code",
   "execution_count": 1,
   "id": "40578821",
   "metadata": {},
   "outputs": [],
   "source": [
    "import pandas as pd\n",
    "import numpy as np"
   ]
  },
  {
   "cell_type": "code",
   "execution_count": 16,
   "id": "6add5ab9",
   "metadata": {},
   "outputs": [],
   "source": [
    "def load_data():\n",
    "    avalanche_df = pd.read_csv(\"./data/avalanches-11-13-2021.csv\")\n",
    "    weather_df = pd.read_csv(\"./data/weather.csv\")\n",
    "    \n",
    "    print(avalanche_df)\n",
    "    print(weather_df)"
   ]
  },
  {
   "cell_type": "code",
   "execution_count": 17,
   "id": "99426364",
   "metadata": {},
   "outputs": [
    {
     "name": "stdout",
     "output_type": "stream",
     "text": [
      "            Date     Region          Place  Trigger  \\\n",
      "0     11/10/2021  Salt Lake   High Greeley    Skier   \n",
      "1     10/25/2021  Salt Lake          Baldy  Natural   \n",
      "2     10/24/2021  Salt Lake          Baldy    Skier   \n",
      "3     10/24/2021  Salt Lake          Baldy  Unknown   \n",
      "4     10/24/2021     Uintas  Reid's Saddle    Hiker   \n",
      "...          ...        ...            ...      ...   \n",
      "5856         NaN  Salt Lake      Main Days  Natural   \n",
      "5857         NaN       Moab           Moab      NaN   \n",
      "5858         NaN  Salt Lake  East Hellgate    Skier   \n",
      "5859         NaN     Uintas         Uintas      NaN   \n",
      "5860         NaN       Moab  Miner's Basin  Natural   \n",
      "\n",
      "       Trigger: additional info                   Weak Layer Depth   Width  \\\n",
      "0                           NaN                      Graupel    4\"     25'   \n",
      "1                           NaN                          NaN   NaN    125'   \n",
      "2                           NaN                          NaN    6\"     15'   \n",
      "3                           NaN                          NaN   NaN     NaN   \n",
      "4                           NaN  New Snow/Old Snow Interface   12\"    100'   \n",
      "...                         ...                          ...   ...     ...   \n",
      "5856                        NaN               Density Change   14\"     NaN   \n",
      "5857                        NaN                     New Snow    3\"    100'   \n",
      "5858  Unintentionally Triggered               Density Change    6\"     50'   \n",
      "5859                        NaN                          NaN   NaN     NaN   \n",
      "5860                        NaN                          NaN   NaN  1,500'   \n",
      "\n",
      "     Vertical     Aspect  ... Buried - Fully Injured  Killed  \\\n",
      "0         NaN  Northeast  ...            NaN     NaN     NaN   \n",
      "1         NaN      North  ...            NaN     NaN     NaN   \n",
      "2         NaN  Northeast  ...            NaN     NaN     NaN   \n",
      "3         NaN      North  ...            NaN     NaN     NaN   \n",
      "4        400'      North  ...            NaN     NaN     NaN   \n",
      "...       ...        ...  ...            ...     ...     ...   \n",
      "5856      NaN  Northeast  ...            NaN     NaN     NaN   \n",
      "5857      40'      North  ...            NaN     NaN     NaN   \n",
      "5858     100'       East  ...            NaN     NaN     NaN   \n",
      "5859      NaN        NaN  ...            NaN     NaN     NaN   \n",
      "5860   1,000'      North  ...            NaN     NaN     NaN   \n",
      "\n",
      "      Accident and Rescue Summary  Terrain Summary  \\\n",
      "0                             NaN              NaN   \n",
      "1                             NaN              NaN   \n",
      "2                             NaN              NaN   \n",
      "3                             NaN              NaN   \n",
      "4                             NaN              NaN   \n",
      "...                           ...              ...   \n",
      "5856                          NaN              NaN   \n",
      "5857                          NaN              NaN   \n",
      "5858                          NaN              NaN   \n",
      "5859                          NaN              NaN   \n",
      "5860                          NaN              NaN   \n",
      "\n",
      "      Weather Conditions and History  \\\n",
      "0                                NaN   \n",
      "1                                NaN   \n",
      "2                                NaN   \n",
      "3                                NaN   \n",
      "4                                NaN   \n",
      "...                              ...   \n",
      "5856                             NaN   \n",
      "5857                             NaN   \n",
      "5858                             NaN   \n",
      "5859                             NaN   \n",
      "5860                             NaN   \n",
      "\n",
      "                                             Comments 1  Comments 2  \\\n",
      "0      Very small and mild. Lower angle, didn't move...         NaN   \n",
      "1     One or multiple wet loose naturals shed most\\n...         NaN   \n",
      "2     Our party of 2 boot packed up a chute on the e...         NaN   \n",
      "3     This avalanche was reported to Jonathan Morgan...         NaN   \n",
      "4     Wind slab.  Started at a deep pocket of snow j...         NaN   \n",
      "...                                                 ...         ...   \n",
      "5856  Walked up Flagstaff this morning in hopes of f...         NaN   \n",
      "5857                                                NaN         NaN   \n",
      "5858  Very sensitive to slope angle yesterday.  Up t...         NaN   \n",
      "5859                                                NaN         NaN   \n",
      "5860  Sunny day above valley clouds. Natural avalanc...         NaN   \n",
      "\n",
      "     Comments 3                                         Comments 4  \n",
      "0           NaN                                                NaN  \n",
      "1           NaN                                                NaN  \n",
      "2           NaN                                                NaN  \n",
      "3           NaN                                                NaN  \n",
      "4           NaN                                                NaN  \n",
      "...         ...                                                ...  \n",
      "5856        NaN  Pretty scary snowpack setup right now.   Rime ...  \n",
      "5857        NaN                                                NaN  \n",
      "5858        NaN                                                NaN  \n",
      "5859        NaN                                                NaN  \n",
      "5860        NaN                                                NaN  \n",
      "\n",
      "[5861 rows x 25 columns]\n",
      "           STATION                    NAME  LATITUDE  LONGITUDE  ELEVATION  \\\n",
      "0      USS0011H08S  BEN LOMOND PEAK, UT US     41.38    -111.94     2438.4   \n",
      "1      USS0011H08S  BEN LOMOND PEAK, UT US     41.38    -111.94     2438.4   \n",
      "2      USS0011H08S  BEN LOMOND PEAK, UT US     41.38    -111.94     2438.4   \n",
      "3      USS0011H08S  BEN LOMOND PEAK, UT US     41.38    -111.94     2438.4   \n",
      "4      USS0011H08S  BEN LOMOND PEAK, UT US     41.38    -111.94     2438.4   \n",
      "...            ...                     ...       ...        ...        ...   \n",
      "39759  USS0011J42S         SNOWBIRD, UT US     40.56    -111.66     2938.3   \n",
      "39760  USS0011J42S         SNOWBIRD, UT US     40.56    -111.66     2938.3   \n",
      "39761  USS0011J42S         SNOWBIRD, UT US     40.56    -111.66     2938.3   \n",
      "39762  USS0011J42S         SNOWBIRD, UT US     40.56    -111.66     2938.3   \n",
      "39763  USS0011J42S         SNOWBIRD, UT US     40.56    -111.66     2938.3   \n",
      "\n",
      "            DATE  DAPR  EVAP  MDPR  MNPN  ...  SNOW  SNWD  TAVG  TMAX  TMIN  \\\n",
      "0       1/1/2000   NaN   NaN   NaN   NaN  ...   NaN  15.0  24.0  33.0  20.0   \n",
      "1       1/2/2000   NaN   NaN   NaN   NaN  ...   NaN  25.0  14.0  19.0  12.0   \n",
      "2       1/3/2000   NaN   NaN   NaN   NaN  ...   NaN  23.0  11.0  15.0   7.0   \n",
      "3       1/4/2000   NaN   NaN   NaN   NaN  ...   NaN  28.0  20.0  25.0  14.0   \n",
      "4       1/5/2000   NaN   NaN   NaN   NaN  ...   NaN  28.0  15.0  19.0  12.0   \n",
      "...          ...   ...   ...   ...   ...  ...   ...   ...   ...   ...   ...   \n",
      "39759  11/4/2021   NaN   NaN   NaN   NaN  ...   NaN  10.0  46.0  53.0  40.0   \n",
      "39760  11/5/2021   NaN   NaN   NaN   NaN  ...   NaN   9.0  44.0  51.0  39.0   \n",
      "39761  11/6/2021   NaN   NaN   NaN   NaN  ...   NaN   8.0  45.0  48.0  43.0   \n",
      "39762  11/7/2021   NaN   NaN   NaN   NaN  ...   NaN   8.0  39.0  43.0  31.0   \n",
      "39763  11/8/2021   NaN   NaN   NaN   NaN  ...   NaN   NaN  36.0  43.0  30.0   \n",
      "\n",
      "       TOBS  WDMV  WESD  WT01  WT03  \n",
      "0      21.0   NaN   3.7   NaN   NaN  \n",
      "1      13.0   NaN   4.2   NaN   NaN  \n",
      "2      15.0   NaN   4.4   NaN   NaN  \n",
      "3      20.0   NaN   5.5   NaN   NaN  \n",
      "4      12.0   NaN   5.5   NaN   NaN  \n",
      "...     ...   ...   ...   ...   ...  \n",
      "39759  46.0   NaN   4.5   NaN   NaN  \n",
      "39760  47.0   NaN   4.4   NaN   NaN  \n",
      "39761  43.0   NaN   4.3   NaN   NaN  \n",
      "39762  32.0   NaN   4.2   NaN   NaN  \n",
      "39763   NaN   NaN   NaN   NaN   NaN  \n",
      "\n",
      "[39764 rows x 22 columns]\n"
     ]
    }
   ],
   "source": [
    "load_data()"
   ]
  },
  {
   "cell_type": "code",
   "execution_count": 6,
   "id": "8bb5b1ea",
   "metadata": {},
   "outputs": [],
   "source": [
    "def kanes_code():\n",
    "    print(\"Kane\")"
   ]
  },
  {
   "cell_type": "code",
   "execution_count": 4,
   "id": "3355a1f4",
   "metadata": {},
   "outputs": [
    {
     "ename": "SyntaxError",
     "evalue": "unexpected EOF while parsing (<ipython-input-4-826d1ef7af66>, line 2)",
     "output_type": "error",
     "traceback": [
      "\u001b[0;36m  File \u001b[0;32m\"<ipython-input-4-826d1ef7af66>\"\u001b[0;36m, line \u001b[0;32m2\u001b[0m\n\u001b[0;31m    \u001b[0m\n\u001b[0m    ^\u001b[0m\n\u001b[0;31mSyntaxError\u001b[0m\u001b[0;31m:\u001b[0m unexpected EOF while parsing\n"
     ]
    }
   ],
   "source": [
    "def lees_code():\n",
    "    "
   ]
  },
  {
   "cell_type": "code",
   "execution_count": 5,
   "id": "73803977",
   "metadata": {},
   "outputs": [
    {
     "ename": "SyntaxError",
     "evalue": "unexpected EOF while parsing (<ipython-input-5-433e3cbd72ed>, line 2)",
     "output_type": "error",
     "traceback": [
      "\u001b[0;36m  File \u001b[0;32m\"<ipython-input-5-433e3cbd72ed>\"\u001b[0;36m, line \u001b[0;32m2\u001b[0m\n\u001b[0;31m    \u001b[0m\n\u001b[0m    ^\u001b[0m\n\u001b[0;31mSyntaxError\u001b[0m\u001b[0;31m:\u001b[0m unexpected EOF while parsing\n"
     ]
    }
   ],
   "source": [
    "def everetts_code():\n",
    "    "
   ]
  },
  {
   "cell_type": "code",
   "execution_count": 7,
   "id": "a84c6dfc",
   "metadata": {},
   "outputs": [
    {
     "ename": "SyntaxError",
     "evalue": "unexpected EOF while parsing (<ipython-input-7-87288e8de9cc>, line 1)",
     "output_type": "error",
     "traceback": [
      "\u001b[0;36m  File \u001b[0;32m\"<ipython-input-7-87288e8de9cc>\"\u001b[0;36m, line \u001b[0;32m1\u001b[0m\n\u001b[0;31m    def rockfords_code():\u001b[0m\n\u001b[0m                         ^\u001b[0m\n\u001b[0;31mSyntaxError\u001b[0m\u001b[0;31m:\u001b[0m unexpected EOF while parsing\n"
     ]
    }
   ],
   "source": [
    "def rockfords_code():"
   ]
  },
  {
   "cell_type": "code",
   "execution_count": null,
   "id": "7f4c0e60",
   "metadata": {},
   "outputs": [],
   "source": [
    "def nathans_codew"
   ]
  }
 ],
 "metadata": {
  "kernelspec": {
   "display_name": "Python 3",
   "language": "python",
   "name": "python3"
  },
  "language_info": {
   "codemirror_mode": {
    "name": "ipython",
    "version": 3
   },
   "file_extension": ".py",
   "mimetype": "text/x-python",
   "name": "python",
   "nbconvert_exporter": "python",
   "pygments_lexer": "ipython3",
   "version": "3.8.5"
  }
 },
 "nbformat": 4,
 "nbformat_minor": 5
}
