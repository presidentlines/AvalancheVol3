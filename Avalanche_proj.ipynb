{
 "cells": [
  {
   "cell_type": "markdown",
   "id": "7ce049a7",
   "metadata": {},
   "source": [
    "# ***AVALANCHE***\n",
    "## ***Volume 3 Project***\n",
    "### ***Lee, Everett, Rockford, Kane, Nathan***"
   ]
  },
  {
   "cell_type": "markdown",
   "id": "302465b7",
   "metadata": {},
   "source": [
    "## **LOCATIONS**\n",
    "1. Ben Lomond Peak\n",
    "2. Monte Cristo\n",
    "3. Ben Lomond Trail\n",
    "4. Snowbird\n",
    "5. Bues Canyon\n",
    "6. Ray S. Valley\n",
    "7. Alta"
   ]
  },
  {
   "cell_type": "markdown",
   "id": "ddfd3d2f",
   "metadata": {},
   "source": [
    "## **FEATURE DESCRIPTIONS**\n",
    "\n",
    "### **Core Values**\n",
    "PRCP = Precipitation (mm or inches as per user preference, inches to hundredths on Daily Form pdf file)<br>\n",
    "SNOW = Snowfall (mm or inches as per user preference, inches to tenths on Daily Form pdf file)<br>\n",
    "SNWD = Snow depth (mm or inches as per user preference, inches on Daily Form pdf file)<br>\n",
    "TMAX = Maximum temperature (Fahrenheit or Celsius as per user preference, Fahrenheit to tenths on\n",
    "Daily Form pdf file<br>\n",
    "TMIN = Minimum temperature (Fahrenheit or Celsius as per user preference, Fahrenheit to tenths on\n",
    "Daily Form pdf file<br>\n",
    "\n",
    "### **Other Values**\n",
    "ACMC = Average cloudiness midnight to midnight from 30-second ceilometer data (percent)<br>\n",
    "ACMH = Average cloudiness midnight to midnight from manual observations (percent)<br>\n",
    "ACSC = Average cloudiness sunrise to sunset from 30-second ceilometer data (percent)<br>\n",
    "ACSH = Average cloudiness sunrise to sunset from manual observations (percent)<br>\n",
    "AWND = Average daily wind speed (meters per second or miles per hour as per user preference)<br>\n",
    "DAEV = Number of days included in the multiday evaporation total (MDEV)<br>\n",
    "DAPR = Number of days included in the multiday precipitation total (MDPR)<br>\n",
    "DASF = Number of days included in the multiday snowfall total (MDSF)<br>\n",
    "DATN = Number of days included in the multiday minimum temperature (MDTN)<br>\n",
    "DATX = Number of days included in the multiday maximum temperature (MDTX)<br>\n",
    "DAWM = Number of days included in the multiday wind movement (MDWM)<br>\n",
    "DWPR = Number of days with non-zero precipitation included in multiday precipitation total (MDPR)<br>\n",
    "EVAP = Evaporation of water from evaporation pan (mm or inches as per user preference, or hundredths\n",
    "of inches on Daily Form pdf file)<br>\n",
    "FMTM = Time of fastest mile or fastest 1-minute wind (hours and minutes, i.e., HHMM)<br>\n",
    "FRGB = Base of frozen ground layer (cm or inches as per user preference)<br>\n",
    "FRGT = Top of frozen ground layer (cm or inches as per user preference)<br>\n",
    "FRTH = Thickness of frozen ground layer (cm or inches as per user preference)<br>\n",
    "GAHT = Difference between river and gauge height (cm or inches as per user preference)<br>\n",
    "MDEV = Multiday evaporation total (mm or inches as per user preference; use with DAEV)<br>\n",
    "MDPR = Multiday precipitation total (mm or inches as per user preference; use with DAPR and DWPR, if\n",
    "available)<br>\n",
    "MDSF = Multiday snowfall total (mm or inches as per user preference)<br>\n",
    "MDTN = Multiday minimum temperature (Fahrenheit or Celsius as per user preference ; use with DATN)<br>\n",
    "MDTX = Multiday maximum temperature (Fahrenheit or Celsius as per user preference ; use with DATX)<br>\n",
    "MDWM = Multiday wind movement (miles or km as per user preference)<br>\n",
    "MNPN = Daily minimum temperature of water in an evaporation pan (Fahrenheit or Celsius as per user\n",
    "preference)<br>\n",
    "MXPN = Daily maximum temperature of water in an evaporation pan (Fahrenheit or Celsius as per user\n",
    "preference)<br>\n",
    "PGTM = Peak gust time (hours and minutes, i.e., HHMM)<br>\n",
    "PSUN = Daily percent of possible sunshine (percent)<br>\n",
    "\n"
   ]
  },
  {
   "cell_type": "code",
   "execution_count": 1,
<<<<<<< HEAD
   "id": "661a2aec",
=======
   "id": "5ba23115",
>>>>>>> 97761ee05259dd13aeaa7e1b6a4a100d1b61f4b2
   "metadata": {},
   "outputs": [],
   "source": [
    "import pandas as pd\n",
    "import numpy as np"
   ]
  },
  {
   "cell_type": "code",
   "execution_count": 31,
   "id": "e8a04f73",
   "metadata": {},
   "outputs": [],
   "source": [
    "def load_data():\n",
    "    avalanche_df = pd.read_csv(\"./data/avalanches-11-13-2021.csv\")\n",
    "    weather_df = pd.read_csv(\"./data/weather.csv\")\n",
    "    \n",
    "    keyweather_df = weather_df[['PRCP','SNOW','SNWD','TMAX','TMIN']]\n",
    "    print(avalanche_df.columns)\n",
    "    print(weather_df.columns)\n",
    "    \n",
    "    avalanche_df.drop(columns = \"Date\", inplace=True)\n",
    "    print(avalanche_df)"
   ]
  },
  {
   "cell_type": "code",
   "execution_count": 32,
   "id": "cbc8196d",
   "metadata": {},
   "outputs": [
    {
     "name": "stdout",
     "output_type": "stream",
     "text": [
      "Index(['Date', 'Region', 'Place', 'Trigger', 'Trigger: additional info',\n",
      "       'Weak Layer', 'Depth', 'Width', 'Vertical', 'Aspect', 'Elevation',\n",
      "       'Coordinates', 'Caught', 'Carried', 'Buried - Partly', 'Buried - Fully',\n",
      "       'Injured', 'Killed', 'Accident and Rescue Summary', 'Terrain Summary',\n",
      "       'Weather Conditions and History', 'Comments 1', 'Comments 2',\n",
      "       'Comments 3', 'Comments 4'],\n",
      "      dtype='object')\n",
      "Index(['STATION', 'NAME', 'LATITUDE', 'LONGITUDE', 'ELEVATION', 'DATE', 'DAPR',\n",
      "       'EVAP', 'MDPR', 'MNPN', 'MXPN', 'PRCP', 'SNOW', 'SNWD', 'TAVG', 'TMAX',\n",
      "       'TMIN', 'TOBS', 'WDMV', 'WESD', 'WT01', 'WT03'],\n",
      "      dtype='object')\n",
      "         Region          Place  Trigger   Trigger: additional info  \\\n",
      "0     Salt Lake   High Greeley    Skier                        NaN   \n",
      "1     Salt Lake          Baldy  Natural                        NaN   \n",
      "2     Salt Lake          Baldy    Skier                        NaN   \n",
      "3     Salt Lake          Baldy  Unknown                        NaN   \n",
      "4        Uintas  Reid's Saddle    Hiker                        NaN   \n",
      "...         ...            ...      ...                        ...   \n",
      "5856  Salt Lake      Main Days  Natural                        NaN   \n",
      "5857       Moab           Moab      NaN                        NaN   \n",
      "5858  Salt Lake  East Hellgate    Skier  Unintentionally Triggered   \n",
      "5859     Uintas         Uintas      NaN                        NaN   \n",
      "5860       Moab  Miner's Basin  Natural                        NaN   \n",
      "\n",
      "                       Weak Layer Depth   Width Vertical     Aspect Elevation  \\\n",
      "0                         Graupel    4\"     25'      NaN  Northeast    9,900'   \n",
      "1                             NaN   NaN    125'      NaN      North   10,800'   \n",
      "2                             NaN    6\"     15'      NaN  Northeast   10,800'   \n",
      "3                             NaN   NaN     NaN      NaN      North       NaN   \n",
      "4     New Snow/Old Snow Interface   12\"    100'     400'      North   10,800'   \n",
      "...                           ...   ...     ...      ...        ...       ...   \n",
      "5856               Density Change   14\"     NaN      NaN  Northeast    9,500'   \n",
      "5857                     New Snow    3\"    100'      40'      North   10,000'   \n",
      "5858               Density Change    6\"     50'     100'       East    9,500'   \n",
      "5859                          NaN   NaN     NaN      NaN        NaN       NaN   \n",
      "5860                          NaN   NaN  1,500'   1,000'      North   10,500'   \n",
      "\n",
      "      ... Buried - Fully  Injured  Killed  Accident and Rescue Summary  \\\n",
      "0     ...            NaN      NaN     NaN                          NaN   \n",
      "1     ...            NaN      NaN     NaN                          NaN   \n",
      "2     ...            NaN      NaN     NaN                          NaN   \n",
      "3     ...            NaN      NaN     NaN                          NaN   \n",
      "4     ...            NaN      NaN     NaN                          NaN   \n",
      "...   ...            ...      ...     ...                          ...   \n",
      "5856  ...            NaN      NaN     NaN                          NaN   \n",
      "5857  ...            NaN      NaN     NaN                          NaN   \n",
      "5858  ...            NaN      NaN     NaN                          NaN   \n",
      "5859  ...            NaN      NaN     NaN                          NaN   \n",
      "5860  ...            NaN      NaN     NaN                          NaN   \n",
      "\n",
      "      Terrain Summary  Weather Conditions and History  \\\n",
      "0                 NaN                             NaN   \n",
      "1                 NaN                             NaN   \n",
      "2                 NaN                             NaN   \n",
      "3                 NaN                             NaN   \n",
      "4                 NaN                             NaN   \n",
      "...               ...                             ...   \n",
      "5856              NaN                             NaN   \n",
      "5857              NaN                             NaN   \n",
      "5858              NaN                             NaN   \n",
      "5859              NaN                             NaN   \n",
      "5860              NaN                             NaN   \n",
      "\n",
      "                                             Comments 1 Comments 2 Comments 3  \\\n",
      "0      Very small and mild. Lower angle, didn't move...        NaN        NaN   \n",
      "1     One or multiple wet loose naturals shed most\\n...        NaN        NaN   \n",
      "2     Our party of 2 boot packed up a chute on the e...        NaN        NaN   \n",
      "3     This avalanche was reported to Jonathan Morgan...        NaN        NaN   \n",
      "4     Wind slab.  Started at a deep pocket of snow j...        NaN        NaN   \n",
      "...                                                 ...        ...        ...   \n",
      "5856  Walked up Flagstaff this morning in hopes of f...        NaN        NaN   \n",
      "5857                                                NaN        NaN        NaN   \n",
      "5858  Very sensitive to slope angle yesterday.  Up t...        NaN        NaN   \n",
      "5859                                                NaN        NaN        NaN   \n",
      "5860  Sunny day above valley clouds. Natural avalanc...        NaN        NaN   \n",
      "\n",
      "                                             Comments 4  \n",
      "0                                                   NaN  \n",
      "1                                                   NaN  \n",
      "2                                                   NaN  \n",
      "3                                                   NaN  \n",
      "4                                                   NaN  \n",
      "...                                                 ...  \n",
      "5856  Pretty scary snowpack setup right now.   Rime ...  \n",
      "5857                                                NaN  \n",
      "5858                                                NaN  \n",
      "5859                                                NaN  \n",
      "5860                                                NaN  \n",
      "\n",
      "[5861 rows x 24 columns]\n"
     ]
    }
   ],
   "source": [
    "load_data()"
   ]
  },
  {
   "cell_type": "code",
   "execution_count": 6,
   "id": "7e5e5bd2",
   "metadata": {},
   "outputs": [],
   "source": [
    "def kanes_code():\n",
    "    print(\"Kane\")"
   ]
  },
  {
   "cell_type": "code",
   "execution_count": 4,
   "id": "68acb867",
   "metadata": {},
   "outputs": [
    {
     "ename": "SyntaxError",
     "evalue": "unexpected EOF while parsing (<ipython-input-4-826d1ef7af66>, line 2)",
     "output_type": "error",
     "traceback": [
      "\u001b[0;36m  File \u001b[0;32m\"<ipython-input-4-826d1ef7af66>\"\u001b[0;36m, line \u001b[0;32m2\u001b[0m\n\u001b[0;31m    \u001b[0m\n\u001b[0m    ^\u001b[0m\n\u001b[0;31mSyntaxError\u001b[0m\u001b[0;31m:\u001b[0m unexpected EOF while parsing\n"
     ]
    }
   ],
   "source": [
    "def lees_code():\n",
    "    "
   ]
  },
  {
   "cell_type": "code",
   "execution_count": 5,
   "id": "87cb73dd",
   "metadata": {},
   "outputs": [
    {
     "ename": "SyntaxError",
     "evalue": "unexpected EOF while parsing (<ipython-input-5-433e3cbd72ed>, line 2)",
     "output_type": "error",
     "traceback": [
      "\u001b[0;36m  File \u001b[0;32m\"<ipython-input-5-433e3cbd72ed>\"\u001b[0;36m, line \u001b[0;32m2\u001b[0m\n\u001b[0;31m    \u001b[0m\n\u001b[0m    ^\u001b[0m\n\u001b[0;31mSyntaxError\u001b[0m\u001b[0;31m:\u001b[0m unexpected EOF while parsing\n"
     ]
    }
   ],
   "source": [
    "def everetts_code():\n",
    "    "
   ]
  },
  {
   "cell_type": "code",
   "execution_count": 7,
   "id": "f101ac09",
   "metadata": {},
   "outputs": [
    {
     "ename": "SyntaxError",
     "evalue": "unexpected EOF while parsing (<ipython-input-7-87288e8de9cc>, line 1)",
     "output_type": "error",
     "traceback": [
      "\u001b[0;36m  File \u001b[0;32m\"<ipython-input-7-87288e8de9cc>\"\u001b[0;36m, line \u001b[0;32m1\u001b[0m\n\u001b[0;31m    def rockfords_code():\u001b[0m\n\u001b[0m                         ^\u001b[0m\n\u001b[0;31mSyntaxError\u001b[0m\u001b[0;31m:\u001b[0m unexpected EOF while parsing\n"
     ]
    }
   ],
   "source": [
    "def rockfords_code():"
   ]
  },
  {
   "cell_type": "code",
   "execution_count": null,
   "id": "03294556",
   "metadata": {},
   "outputs": [],
   "source": [
    "def nathans_codew"
   ]
  }
 ],
 "metadata": {
  "kernelspec": {
   "display_name": "Python 3",
   "language": "python",
   "name": "python3"
  },
  "language_info": {
   "codemirror_mode": {
    "name": "ipython",
    "version": 3
   },
   "file_extension": ".py",
   "mimetype": "text/x-python",
   "name": "python",
   "nbconvert_exporter": "python",
   "pygments_lexer": "ipython3",
   "version": "3.9.4"
  }
 },
 "nbformat": 4,
 "nbformat_minor": 5
}
