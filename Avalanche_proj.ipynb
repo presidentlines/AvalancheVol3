{
 "cells": [
  {
   "cell_type": "code",
   "execution_count": 1,
   "id": "0f4dc1bd",
   "metadata": {},
   "outputs": [],
   "source": [
    "import pandas as pd\n",
    "import numpy as np"
   ]
  },
  {
   "cell_type": "code",
   "execution_count": 26,
   "id": "7c4fd4b0",
   "metadata": {},
   "outputs": [],
   "source": [
    "def load_data():\n",
    "    avalanche_df = pd.read_csv(\"./data/avalanches-11-13-2021.csv\")\n",
    "    weather_df = pd.read_csv(\"./data/weather.csv\")\n",
    "    \n",
    "    print(avalanche_df.columns)\n",
    "    print(weather_df.columns)\n",
    "    \n",
    "    print(\"Number of null values for date in \", avalanche_df[\"Date\"].isna().sum())"
   ]
  },
  {
   "cell_type": "code",
   "execution_count": 27,
   "id": "6d941aae",
   "metadata": {},
   "outputs": [
    {
     "name": "stdout",
     "output_type": "stream",
     "text": [
      "Index(['Date', 'Region', 'Place', 'Trigger', 'Trigger: additional info',\n",
      "       'Weak Layer', 'Depth', 'Width', 'Vertical', 'Aspect', 'Elevation',\n",
      "       'Coordinates', 'Caught', 'Carried', 'Buried - Partly', 'Buried - Fully',\n",
      "       'Injured', 'Killed', 'Accident and Rescue Summary', 'Terrain Summary',\n",
      "       'Weather Conditions and History', 'Comments 1', 'Comments 2',\n",
      "       'Comments 3', 'Comments 4'],\n",
      "      dtype='object')\n",
      "Index(['STATION', 'NAME', 'LATITUDE', 'LONGITUDE', 'ELEVATION', 'DATE', 'DAPR',\n",
      "       'EVAP', 'MDPR', 'MNPN', 'MXPN', 'PRCP', 'SNOW', 'SNWD', 'TAVG', 'TMAX',\n",
      "       'TMIN', 'TOBS', 'WDMV', 'WESD', 'WT01', 'WT03'],\n",
      "      dtype='object')\n",
      "Number of null values for date in  24\n"
     ]
    }
   ],
   "source": [
    "load_data()"
   ]
  },
  {
   "cell_type": "code",
   "execution_count": 17,
   "id": "5af9df45",
   "metadata": {},
   "outputs": [],
   "source": [
    "def kanes_code():\n",
    "    print(\"Kane\")"
   ]
  },
  {
   "cell_type": "code",
   "execution_count": 18,
   "id": "edd5a6ab",
   "metadata": {},
   "outputs": [],
   "source": [
    "def lees_code():\n",
    "    return kanes_code()"
   ]
  },
  {
   "cell_type": "code",
   "execution_count": 19,
   "id": "e07c66de",
   "metadata": {},
   "outputs": [],
   "source": [
    "def everetts_code():\n",
    "    return lees_code()"
   ]
  },
  {
   "cell_type": "code",
   "execution_count": 20,
   "id": "e7a5fe27",
   "metadata": {},
   "outputs": [],
   "source": [
    "def rockfords_code():\n",
    "    return everetts_code()"
   ]
  },
  {
   "cell_type": "code",
   "execution_count": 21,
   "id": "a1d292c7",
   "metadata": {},
   "outputs": [],
   "source": [
    "def nathans_code():\n",
    "    return rockfords_code()"
   ]
  },
  {
   "cell_type": "code",
   "execution_count": 23,
   "id": "5d54bbc6",
   "metadata": {},
   "outputs": [
    {
     "name": "stdout",
     "output_type": "stream",
     "text": [
      "Kane\n"
     ]
    }
   ],
   "source": [
    "nathans_code()"
   ]
  },
  {
   "cell_type": "code",
   "execution_count": null,
   "id": "73df3edd",
   "metadata": {},
   "outputs": [],
   "source": []
  }
 ],
 "metadata": {
  "kernelspec": {
   "display_name": "Python 3 (ipykernel)",
   "language": "python",
   "name": "python3"
  },
  "language_info": {
   "codemirror_mode": {
    "name": "ipython",
    "version": 3
   },
   "file_extension": ".py",
   "mimetype": "text/x-python",
   "name": "python",
   "nbconvert_exporter": "python",
   "pygments_lexer": "ipython3",
   "version": "3.9.7"
  }
 },
 "nbformat": 4,
 "nbformat_minor": 5
}
